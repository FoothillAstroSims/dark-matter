{
 "cells": [
  {
   "cell_type": "code",
   "execution_count": 24,
   "metadata": {},
   "outputs": [],
   "source": [
    "# see functional prototype at https://foothill.edu/astronomy/astrosims/darkmatter/Dark_Matter_Simulation.xhtml"
   ]
  },
  {
   "cell_type": "code",
   "execution_count": 25,
   "metadata": {},
   "outputs": [],
   "source": [
    "\n",
    "# displays static in notebook\n",
    "%matplotlib inline  \n",
    "# displays interactive outside notebook\n",
    "#%matplotlib   \n",
    "# displays interactive in notebook\n",
    "#%matplotlib notebook  \n",
    "\n",
    "\n",
    "import numpy as np\n",
    "import matplotlib.pyplot as plt\n",
    "import matplotlib as mpl\n",
    "import astropy.coordinates as coord\n",
    "import astropy.units as u\n",
    "\n",
    "#from astropy import units as u\n",
    "from astropy.coordinates import SkyCoord\n",
    "\n",
    "folder = ''\n",
    "\n",
    "mpl.rcParams['font.family']='serif'\n",
    "mpl.rcParams['font.size']=14"
   ]
  },
  {
   "cell_type": "code",
   "execution_count": 26,
   "metadata": {},
   "outputs": [],
   "source": [
    "# useful constants\n",
    "light_year = 9.46E15 # light-year in meters\n",
    "Msun = 1.989E30  # mass of the sun in kg\n",
    "G = 6.67408E-11 # gravitational constant in m3 kg-1 s-2\n",
    "seconds_in_year = 3.154e7\n"
   ]
  },
  {
   "cell_type": "code",
   "execution_count": 36,
   "metadata": {},
   "outputs": [
    {
     "name": "stdout",
     "output_type": "stream",
     "text": [
      "[2.83695212e+40 1.73763317e+41 3.36888064e+41 2.62418071e+41\n",
      " 2.16317599e+41 2.58162643e+41 2.70219689e+41 2.39722454e+41\n",
      " 1.53904652e+41 9.61017529e+40]\n",
      "10 10 10\n",
      "radii (kly) density kg/m3 mass within shell (Msun) circular orbit speed (km/s)\n",
      "10 8e-21 14263208223.877968 14263208223.877968 141.47383899889547\n",
      "20 6.999999999999999e-21 87362150371.25256 101625358595.13054 267.02601534095277\n",
      "30 5e-21 169375597658.55087 271000956253.68143 356.0346871212704\n",
      "40 2e-21 131934676070.87122 402935632324.5527 375.9718843114013\n",
      "50 1e-21 108756962707.06953 511692595031.62213 378.9545198223499\n",
      "60 7.999999999999999e-22 129795194837.28954 641487789868.9117 387.3344268352643\n",
      "70 6e-22 135857058332.43768 777344848201.3494 394.752936856741\n",
      "80 3.9999999999999997e-22 120524109491.76884 897868957693.1182 396.8524011317568\n",
      "90 1.9999999999999999e-22 77377904614.53798 975246862307.6562 389.94517732969916\n",
      "100 9.999999999999999e-23 48316617858.38663 1023563480166.0428 378.9875283603527\n"
     ]
    }
   ],
   "source": [
    "# bin edges for dark matter density function, distances in thousands of light-years\n",
    "DM_radii = np.arange(10,101,10)\n",
    "DM_bin_width = 10.0\n",
    "\n",
    "# density within each bin, kg / m3\n",
    "DM_density = np.array([0.8, 0.7, 0.5, 0.2, 0.1, 0.08, 0.06, 0.04, 0.02, 0.01]) * 1E-20\n",
    "\n",
    "# mass within each radius\n",
    "DM_mass_within_shell = np.array([4.0/3 * np.pi * (1E3 * light_year * DM_radii[0])**3 * DM_density[0]])\n",
    "for i in np.arange(1,len(DM_radii)):\n",
    "    #calculate volume of shell\n",
    "    volume = 4.0/3 * np.pi * (1E3 * light_year)**3 * (DM_radii[i]**3 - DM_radii[i-1]**3) \n",
    "    mass = volume * DM_density[i]\n",
    "    DM_mass_within_shell = np.append(DM_mass_within_shell,mass)\n",
    "    \n",
    "print(DM_mass_within_shell)\n",
    "# calculate the cumulative mass at each radius\n",
    "DM_cumulative_mass = np.array([DM_mass_within_shell[0]])\n",
    "for i in np.arange(1,len(DM_mass_within_shell)):\n",
    "    DM_cumulative_mass = np.append(DM_cumulative_mass,DM_cumulative_mass[i-1]+DM_mass_within_shell[i])\n",
    "   \n",
    "# calculate circular orbit speed at each radius\n",
    "# v^2/r = GM/r2\n",
    "speed = (G * DM_cumulative_mass / (DM_radii * 1E3 * light_year))**0.5\n",
    "\n",
    "# print out values\n",
    "print(len(DM_cumulative_mass), len(DM_radii), len(speed))\n",
    "\n",
    "print('radii (kly)', 'density kg/m3', 'mass within shell (Msun)', 'circular orbit speed (km/s)')\n",
    "for i in np.arange(len(DM_mass_within_shell)):\n",
    "    print(DM_radii[i], DM_density[i], DM_mass_within_shell[i]/Msun, DM_cumulative_mass[i]/Msun, speed[i] / 1E3)\n",
    "    "
   ]
  },
  {
   "cell_type": "code",
   "execution_count": 37,
   "metadata": {
    "scrolled": true
   },
   "outputs": [
    {
     "data": {
      "text/plain": [
       "Text(0.5,1,'Dark matter density (kg/m3)')"
      ]
     },
     "execution_count": 37,
     "metadata": {},
     "output_type": "execute_result"
    },
    {
     "data": {
      "text/plain": [
       "<Figure size 432x288 with 0 Axes>"
      ]
     },
     "metadata": {},
     "output_type": "display_data"
    },
    {
     "data": {
      "image/png": "[encoded data removed]",
      "text/plain": [
       "<Figure size 864x288 with 1 Axes>"
      ]
     },
     "metadata": {},
     "output_type": "display_data"
    }
   ],
   "source": [
    "plt.clf()\n",
    "plt.figure(figsize=(12,4))\n",
    "plt.ylim(0,1.1E-20)\n",
    "\n",
    "plt.scatter(DM_radii,DM_density, c = 'red')\n",
    "plt.title('Dark matter density (kg/m3)')"
   ]
  },
  {
   "cell_type": "code",
   "execution_count": 38,
   "metadata": {},
   "outputs": [
    {
     "data": {
      "text/plain": [
       "Text(0.5,1,'Orbital speed (km/s)')"
      ]
     },
     "execution_count": 38,
     "metadata": {},
     "output_type": "execute_result"
    },
    {
     "data": {
      "text/plain": [
       "<Figure size 432x288 with 0 Axes>"
      ]
     },
     "metadata": {},
     "output_type": "display_data"
    },
    {
     "data": {
      "image/png": "[encoded data removed]",
      "text/plain": [
       "<Figure size 864x288 with 1 Axes>"
      ]
     },
     "metadata": {},
     "output_type": "display_data"
    }
   ],
   "source": [
    "plt.clf()\n",
    "plt.figure(figsize=(12,4))\n",
    "#plt.ylim(0,1.1E-20)\n",
    "\n",
    "plt.plot(DM_radii,speed / 1E3, c = 'red')\n",
    "plt.title('Orbital speed (km/s)')"
   ]
  },
  {
   "cell_type": "code",
   "execution_count": null,
   "metadata": {},
   "outputs": [],
   "source": []
  }
 ],
 "metadata": {
  "kernelspec": {
   "display_name": "Python 3",
   "language": "python",
   "name": "python3"
  },
  "language_info": {
   "codemirror_mode": {
    "name": "ipython",
    "version": 3
   },
   "file_extension": ".py",
   "mimetype": "text/x-python",
   "name": "python",
   "nbconvert_exporter": "python",
   "pygments_lexer": "ipython3",
   "version": "3.6.5"
  }
 },
 "nbformat": 4,
 "nbformat_minor": 2
}
